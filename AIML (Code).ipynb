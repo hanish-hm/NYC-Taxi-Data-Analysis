{
  "nbformat": 4,
  "nbformat_minor": 0,
  "metadata": {
    "colab": {
      "private_outputs": true,
      "provenance": [],
      "collapsed_sections": [
        "EM7whBJCYoAo",
        "fge-S5ZAYoAp",
        "85gYPyotYoAp",
        "RoGjAbkUYoAp"
      ]
    },
    "kernelspec": {
      "name": "python3",
      "display_name": "Python 3"
    },
    "language_info": {
      "name": "python"
    }
  },
  "cells": [
    {
      "cell_type": "markdown",
      "source": [
        "# **Project Name**    - NYC Yellow Taxi System\n",
        "\n"
      ],
      "metadata": {
        "id": "vncDsAP0Gaoa"
      }
    },
    {
      "cell_type": "markdown",
      "source": [
        "**Project Summary -** The objective of this project is to analyze sales trends of NYC yellow taxis and segment customers based on demographic and transactional data. By understanding sales patterns over time and identifying customer segments, the project aims to provide insights for optimizing service delivery and marketing strategies.\n",
        "\n",
        "The dataset includes various attributes such as VendorID, pickup and dropoff datetimes, passenger count, trip distance, geographical coordinates, rate code, store and forward flag, payment type, fare amount, additional charges (extra, MTA tax, tolls), tip amount, and total amount. These attributes provide comprehensive information about taxi trips and customer transactions.\n"
      ],
      "metadata": {
        "id": "FJNUwmbgGyua"
      }
    },
    {
      "cell_type": "code",
      "source": [
        "# Import Libraries\n",
        "import numpy as np\n",
        "import pandas as pd\n",
        "import seaborn as sns\n",
        "import matplotlib.pyplot as plt"
      ],
      "metadata": {
        "id": "M8Vqi-pPk-HR"
      },
      "execution_count": null,
      "outputs": []
    },
    {
      "cell_type": "code",
      "source": [
        "# Load Dataset\n",
        "df=pd.read_csv('yellow_tripdata_2016-01 (2).csv')"
      ],
      "metadata": {
        "id": "4CkvbW_SlZ_R"
      },
      "execution_count": null,
      "outputs": []
    },
    {
      "cell_type": "code",
      "source": [
        "# Dataset First Look\n",
        "df.head()"
      ],
      "metadata": {
        "id": "LWNFOSvLl09H"
      },
      "execution_count": null,
      "outputs": []
    },
    {
      "cell_type": "code",
      "source": [
        "# Dataset Rows & Columns count\n",
        "df.shape"
      ],
      "metadata": {
        "id": "Kllu7SJgmLij"
      },
      "execution_count": null,
      "outputs": []
    },
    {
      "cell_type": "code",
      "source": [
        "# Dataset Info\n",
        "df.info()"
      ],
      "metadata": {
        "id": "e9hRXRi6meOf"
      },
      "execution_count": null,
      "outputs": []
    },
    {
      "cell_type": "code",
      "source": [
        "# Dataset Duplicate Value Count\n",
        "du=df.duplicated().value_counts()\n",
        "du"
      ],
      "metadata": {
        "id": "1sLdpKYkmox0"
      },
      "execution_count": null,
      "outputs": []
    },
    {
      "cell_type": "code",
      "source": [
        "# Missing Values/Null Values Count\n",
        "miss=df.isnull().sum()\n",
        "miss.sum()"
      ],
      "metadata": {
        "id": "GgHWkxvamxVg"
      },
      "execution_count": null,
      "outputs": []
    },
    {
      "cell_type": "code",
      "source": [
        "# Visualizing the missing values\n",
        "plt.figure(figsize=(5,8))\n",
        "sns.heatmap(df.isnull(), cbar=False, cmap='viridis')\n",
        "plt.title(\"Missing Values Heatmap\")\n",
        "plt.show()"
      ],
      "metadata": {
        "id": "3q5wnI3om9sJ"
      },
      "execution_count": null,
      "outputs": []
    },
    {
      "cell_type": "code",
      "source": [
        "# Dataset Columns\n",
        "print(df.columns)"
      ],
      "metadata": {
        "id": "j7xfkqrt5Ag5"
      },
      "execution_count": null,
      "outputs": []
    },
    {
      "cell_type": "code",
      "source": [
        "# Dataset Describe\n",
        "df.describe()"
      ],
      "metadata": {
        "id": "DnOaZdaE5Q5t"
      },
      "execution_count": null,
      "outputs": []
    },
    {
      "cell_type": "code",
      "source": [
        "# Check Unique Values for each variable.\n",
        "df['trip_distance'].unique()"
      ],
      "metadata": {
        "id": "zms12Yq5n-jE"
      },
      "execution_count": null,
      "outputs": []
    },
    {
      "cell_type": "markdown",
      "source": [
        "#### Chart - 1"
      ],
      "metadata": {
        "id": "0wOQAZs5pc--"
      }
    },
    {
      "cell_type": "code",
      "source": [
        "# Chart - 1 visualization code\n",
        "plt.figure(figsize=(8, 6))\n",
        "sns.barplot(data=df, x='VendorID', y='trip_distance', estimator=np.mean)\n",
        "plt.title('Avg Trip Distance per Vendor')\n",
        "plt.xlabel('Vendor ID')\n",
        "plt.ylabel('Average Trip Distance')\n",
        "plt.show()"
      ],
      "metadata": {
        "id": "C1QOvihQWEvZ"
      },
      "execution_count": null,
      "outputs": []
    },
    {
      "cell_type": "markdown",
      "source": [
        "#### Chart - 2"
      ],
      "metadata": {
        "id": "KSlN3yHqYklG"
      }
    },
    {
      "cell_type": "code",
      "source": [
        "# Chart - 2 visualization code\n",
        "plt.figure(figsize=(8, 6))\n",
        "sns.barplot(data=df, x='payment_type', y='fare_amount', estimator=np.sum)\n",
        "plt.title('Total Fare Amount per Payment Type')\n",
        "plt.xlabel('Payment Type')\n",
        "plt.ylabel('Total Fare Amount')\n",
        "plt.show()\n"
      ],
      "metadata": {
        "id": "R4YgtaqtYklH"
      },
      "execution_count": null,
      "outputs": []
    },
    {
      "cell_type": "markdown",
      "source": [
        "#### Chart - 3"
      ],
      "metadata": {
        "id": "EM7whBJCYoAo"
      }
    },
    {
      "cell_type": "code",
      "source": [
        "# Chart - 3 visualization code\n",
        "plt.figure(figsize=(8, 6))\n",
        "sns.barplot(data=df, x='passenger_count', y='tip_amount', estimator=np.mean)\n",
        "plt.title('Average Tip Amount per Passenger Count')\n",
        "plt.xlabel('Passenger Count')\n",
        "plt.ylabel('Average Tip Amount')\n",
        "plt.show()\n",
        "#This code snippet creates a bar plot showing the average tip amount based on the passenger count.\n",
        "#The x-axis represents the passenger count, and the y-axis represents the average tip amount.\n"
      ],
      "metadata": {
        "id": "t6GMdE67YoAp"
      },
      "execution_count": null,
      "outputs": []
    },
    {
      "cell_type": "markdown",
      "source": [
        "##### 1. Why did you pick the specific chart?"
      ],
      "metadata": {
        "id": "fge-S5ZAYoAp"
      }
    },
    {
      "cell_type": "markdown",
      "source": [
        "I selected the bar plot of the average tip amount per passenger count because it allows for a comparison of tip amounts based on the number of passengers in a trip. This visualization helps in understanding whether there is any correlation between the number of passengers and the tip amount left by customers."
      ],
      "metadata": {
        "id": "5dBItgRVYoAp"
      }
    },
    {
      "cell_type": "markdown",
      "source": [
        "##### 2. What is/are the insight(s) found from the chart?"
      ],
      "metadata": {
        "id": "85gYPyotYoAp"
      }
    },
    {
      "cell_type": "markdown",
      "source": [
        "The chart reveals the average tip amount given by customers for trips with different passenger counts. It provides insights into customer tipping behavior based on the number of passengers in a trip. This insight can help in understanding tipping trends and whether certain passenger counts tend to result in higher or lower tip amounts."
      ],
      "metadata": {
        "id": "4jstXR6OYoAp"
      }
    },
    {
      "cell_type": "markdown",
      "source": [
        "##### 3. Will the gained insights help creating a positive business impact?\n",
        "Are there any insights that lead to negative growth? Justify with specific reason."
      ],
      "metadata": {
        "id": "RoGjAbkUYoAp"
      }
    },
    {
      "cell_type": "markdown",
      "source": [
        "Yes, the insights gained from this chart can potentially create a positive business impact:\n",
        "Understanding tipping patterns based on passenger count can help businesses optimize customer service strategies, such as providing incentives or encouragement for larger groups to tip more generously."
      ],
      "metadata": {
        "id": "zfJ8IqMcYoAp"
      }
    },
    {
      "cell_type": "markdown",
      "source": [
        "#### Chart - 4"
      ],
      "metadata": {
        "id": "4Of9eVA-YrdM"
      }
    },
    {
      "cell_type": "code",
      "source": [
        "# Chart - 4 visualization code\n",
        "plt.scatter(df['trip_distance'], df['tip_amount'],alpha=0.5)\n",
        "plt.xlabel('Trip Distance')\n",
        "plt.ylabel('Tip Amount')\n",
        "plt.title('Scatter Plot: Trip Distance vs Tip Amount')\n",
        "plt.show()"
      ],
      "metadata": {
        "id": "irlUoxc8YrdO"
      },
      "execution_count": null,
      "outputs": []
    },
    {
      "cell_type": "markdown",
      "source": [
        "#### Chart - 5"
      ],
      "metadata": {
        "id": "bamQiAODYuh1"
      }
    },
    {
      "cell_type": "code",
      "source": [
        "# Chart - 5 visualization code\n",
        "passenger_count_counts = df['passenger_count'].value_counts()    # Calculate the frequency of each passenger count\n",
        "passenger_count_counts.plot(kind='bar')                          # Create a bar plot\n",
        "plt.xlabel('Passenger Count')\n",
        "plt.ylabel('Frequency')\n",
        "plt.title('Distribution of Passenger Count')\n",
        "plt.show()"
      ],
      "metadata": {
        "id": "TIJwrbroYuh3"
      },
      "execution_count": null,
      "outputs": []
    },
    {
      "cell_type": "markdown",
      "source": [
        "#### Chart - 6"
      ],
      "metadata": {
        "id": "OH-pJp9IphqM"
      }
    },
    {
      "cell_type": "code",
      "source": [
        "# Chart - 6 visualization code\n",
        "# Pie chart for VendorID\n",
        "vendor_counts = df['VendorID'].value_counts()\n",
        "plt.figure(figsize=(8, 6))\n",
        "plt.pie(vendor_counts, labels=vendor_counts.index, autopct='%1.1f%%', startangle=140)\n",
        "plt.title('Distribution of Taxi Trips by Vendor')\n",
        "plt.axis('equal')\n",
        "plt.show()\n"
      ],
      "metadata": {
        "id": "kuRf4wtuphqN"
      },
      "execution_count": null,
      "outputs": []
    },
    {
      "cell_type": "markdown",
      "source": [
        "#### Chart - 7"
      ],
      "metadata": {
        "id": "PIIx-8_IphqN"
      }
    },
    {
      "cell_type": "code",
      "source": [
        "# Chart - 7 visualization code\n",
        "passenger_counts = df['passenger_count'].value_counts()\n",
        "plt.figure(figsize=(8, 6))\n",
        "plt.pie(passenger_counts, labels=passenger_counts.index, autopct='%1.1f%%', startangle=140)\n",
        "plt.title('Distribution of Taxi Trips by Number of Passengers')\n",
        "plt.axis('equal')\n",
        "plt.show()\n",
        "\n",
        "\n"
      ],
      "metadata": {
        "id": "lqAIGUfyphqO"
      },
      "execution_count": null,
      "outputs": []
    },
    {
      "cell_type": "markdown",
      "source": [
        "#### Chart - 8"
      ],
      "metadata": {
        "id": "BZR9WyysphqO"
      }
    },
    {
      "cell_type": "code",
      "source": [
        "# # Chart - 8 visualization code\n",
        "ratecode_counts = df['RatecodeID'].value_counts()\n",
        "ratecode_counts.plot(kind='bar')\n",
        "plt.xlabel('Ratecode ID')\n",
        "plt.ylabel('Frequency')\n",
        "plt.title('Distribution of Ratecode IDs')\n",
        "plt.show()"
      ],
      "metadata": {
        "id": "TdPTWpAVphqO"
      },
      "execution_count": null,
      "outputs": []
    },
    {
      "cell_type": "markdown",
      "source": [
        "#### Chart - 9"
      ],
      "metadata": {
        "id": "YJ55k-q6phqO"
      }
    },
    {
      "cell_type": "code",
      "source": [
        "# Chart - 9 visualization code\n",
        "store_fwd_counts = df['store_and_fwd_flag'].value_counts()\n",
        "store_fwd_counts.plot(kind='bar')\n",
        "plt.xlabel('Store and Forward Flag')\n",
        "plt.ylabel('Frequency')\n",
        "plt.title('Distribution of Store and Forward Flags')\n",
        "plt.show()\n"
      ],
      "metadata": {
        "id": "B2aS4O1ophqO"
      },
      "execution_count": null,
      "outputs": []
    },
    {
      "cell_type": "markdown",
      "source": [
        "#### Chart - 10"
      ],
      "metadata": {
        "id": "U2RJ9gkRphqQ"
      }
    },
    {
      "cell_type": "code",
      "source": [
        "# Chart - 10 visualization code\n",
        "plt.hist(df['fare_amount'], bins=20, edgecolor='black')\n",
        "plt.xlabel('Fare Amount')\n",
        "plt.ylabel('Frequency')\n",
        "plt.title('Histogram of Fare Amount')\n",
        "plt.show()"
      ],
      "metadata": {
        "id": "GM7a4YP4phqQ"
      },
      "execution_count": null,
      "outputs": []
    },
    {
      "cell_type": "markdown",
      "source": [
        "#### Chart - 11"
      ],
      "metadata": {
        "id": "x-EpHcCOp1ci"
      }
    },
    {
      "cell_type": "code",
      "source": [
        "# Chart - 11 visualization code\n",
        "plt.hist(df['tip_amount'], bins=20, edgecolor='black')\n",
        "plt.xlabel('Tip Amount')\n",
        "plt.ylabel('Frequency')\n",
        "plt.title('Histogram of Tip Amount')\n",
        "plt.show()\n",
        "\n"
      ],
      "metadata": {
        "id": "mAQTIvtqp1cj"
      },
      "execution_count": null,
      "outputs": []
    },
    {
      "cell_type": "markdown",
      "source": [
        "#### Chart - 12"
      ],
      "metadata": {
        "id": "n3dbpmDWp1ck"
      }
    },
    {
      "cell_type": "code",
      "source": [
        "# Chart - 12 visualization code\n",
        "plt.scatter(df['pickup_longitude'], df['pickup_latitude'], alpha=0.5)\n",
        "plt.xlabel('Pickup Longitude')\n",
        "plt.ylabel('Pickup Latitude')\n",
        "plt.title('Scatter Plot: Pickup Longitude vs Pickup Latitude')\n",
        "plt.show()"
      ],
      "metadata": {
        "id": "bwevp1tKp1ck"
      },
      "execution_count": null,
      "outputs": []
    },
    {
      "cell_type": "markdown",
      "source": [
        "#### Chart - 13"
      ],
      "metadata": {
        "id": "Ag9LCva-p1cl"
      }
    },
    {
      "cell_type": "code",
      "source": [
        "# Chart - 13 visualization code\n",
        "plt.scatter(df['dropoff_longitude'], df['dropoff_latitude'], alpha=0.5)\n",
        "plt.xlabel('Dropoff Longitude')\n",
        "plt.ylabel('Dropoff Latitude')\n",
        "plt.title('Scatter Plot: Dropoff Longitude vs Dropoff Latitude')\n",
        "plt.show()\n"
      ],
      "metadata": {
        "id": "EUfxeq9-p1cl"
      },
      "execution_count": null,
      "outputs": []
    },
    {
      "cell_type": "markdown",
      "source": [
        "#### Chart - 14"
      ],
      "metadata": {
        "id": "q29F0dvdveiT"
      }
    },
    {
      "cell_type": "code",
      "source": [
        "# Pair Plot visualization code\n",
        "import seaborn as sns\n",
        "import matplotlib.pyplot as plt\n",
        "\n",
        "# Assuming 'df' is your DataFrame containing the taxi trip data\n",
        "\n",
        "# Selecting numerical columns for pair plot\n",
        "numerical_columns = ['VendorID', 'passenger_count', 'trip_distance', 'pickup_longitude',\n",
        "                     'pickup_latitude', 'RatecodeID', 'dropoff_longitude', 'dropoff_latitude',\n",
        "                     'payment_type', 'fare_amount', 'extra', 'mta_tax', 'tip_amount',\n",
        "                     'tolls_amount', 'improvement_surcharge', 'total_amount']\n",
        "\n",
        "# Creating pair plot\n",
        "plt.show()\n"
      ],
      "metadata": {
        "id": "o58-TEIhveiU"
      },
      "execution_count": null,
      "outputs": []
    }
  ]
}